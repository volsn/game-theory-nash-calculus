{
 "cells": [
  {
   "cell_type": "code",
   "execution_count": 1,
   "metadata": {},
   "outputs": [],
   "source": [
    "import math\n",
    "import sys\n",
    "\n",
    "import numpy as np\n",
    "\n",
    "from sympy.abc import x\n",
    "from sympy import Poly, Intersection\n",
    "from sympy.solvers.inequalities import solve_poly_inequality"
   ]
  },
  {
   "cell_type": "code",
   "execution_count": null,
   "metadata": {},
   "outputs": [],
   "source": []
  },
  {
   "cell_type": "code",
   "execution_count": 2,
   "metadata": {},
   "outputs": [],
   "source": [
    "b11 = 5\n",
    "b21 = -1\n",
    "b12 = -2\n",
    "b22 = 1\n",
    "\n",
    "a11 = -10\n",
    "a21 = 1\n",
    "a12 = 2\n",
    "a22 = -1"
   ]
  },
  {
   "cell_type": "code",
   "execution_count": 3,
   "metadata": {},
   "outputs": [],
   "source": [
    "C = a11 - a12 - a21 + a22\n",
    "a = a22- a12\n",
    "D = b11 - b12 - b21 + b22\n",
    "b = b22 - b21"
   ]
  },
  {
   "cell_type": "code",
   "execution_count": 4,
   "metadata": {},
   "outputs": [
    {
     "name": "stdout",
     "output_type": "stream",
     "text": [
      "C: -14\n",
      "α: -3 \n",
      "D: 9\n",
      "ß: 2\n",
      "\n"
     ]
    }
   ],
   "source": [
    "print(\"C: {}\\nα: {} \\nD: {}\\nß: {}\\n\".format(\n",
    "    C, a, D, b\n",
    "))"
   ]
  },
  {
   "cell_type": "code",
   "execution_count": null,
   "metadata": {},
   "outputs": [],
   "source": []
  },
  {
   "cell_type": "code",
   "execution_count": 5,
   "metadata": {},
   "outputs": [],
   "source": [
    "\"\"\"\n",
    "Определяемая равновесную ситуацию, необходимо и достаточно одновременное выполнение следующих неравенств\n",
    "(p–1)(Cq-α) ≥ 0, p(Cq-α) ≥ 0; 0 ≤ p ≤ 1\n",
    "(q-1)(Dp-β) ≥ 0, q(Dp-β) ≥ 0; 0 ≤ q ≤ 1\n",
    "\"\"\"\n",
    "sys.stdout.flush()"
   ]
  },
  {
   "cell_type": "code",
   "execution_count": null,
   "metadata": {},
   "outputs": [],
   "source": []
  },
  {
   "cell_type": "code",
   "execution_count": 6,
   "metadata": {},
   "outputs": [],
   "source": [
    "p1 = solve_poly_inequality(Poly(C * x - a), '>=')[0]\n",
    "p0 = solve_poly_inequality(Poly(-(C * x - a)), '>=')[0]\n",
    "\n",
    "q1 = solve_poly_inequality(Poly(D * x - b), '>=')[0]\n",
    "q0 = solve_poly_inequality(Poly(-(D * x - b)), '>=')[0]"
   ]
  },
  {
   "cell_type": "code",
   "execution_count": null,
   "metadata": {},
   "outputs": [],
   "source": []
  },
  {
   "cell_type": "code",
   "execution_count": 7,
   "metadata": {},
   "outputs": [
    {
     "name": "stdout",
     "output_type": "stream",
     "text": [
      "p1: \n"
     ]
    },
    {
     "data": {
      "text/latex": [
       "$\\displaystyle \\left(-\\infty, \\frac{3}{14}\\right]$"
      ],
      "text/plain": [
       "Interval(-oo, 3/14)"
      ]
     },
     "execution_count": 7,
     "metadata": {},
     "output_type": "execute_result"
    }
   ],
   "source": [
    "print(\"p1: \")\n",
    "p1"
   ]
  },
  {
   "cell_type": "code",
   "execution_count": 8,
   "metadata": {},
   "outputs": [
    {
     "name": "stdout",
     "output_type": "stream",
     "text": [
      "p0: \n"
     ]
    },
    {
     "data": {
      "text/latex": [
       "$\\displaystyle \\left[\\frac{3}{14}, \\infty\\right)$"
      ],
      "text/plain": [
       "Interval(3/14, oo)"
      ]
     },
     "execution_count": 8,
     "metadata": {},
     "output_type": "execute_result"
    }
   ],
   "source": [
    "print(\"p0: \")\n",
    "p0"
   ]
  },
  {
   "cell_type": "code",
   "execution_count": null,
   "metadata": {},
   "outputs": [],
   "source": []
  },
  {
   "cell_type": "code",
   "execution_count": 9,
   "metadata": {},
   "outputs": [
    {
     "name": "stdout",
     "output_type": "stream",
     "text": [
      "Оптимальные стратегии по Нэшу\n",
      "P* = (2/9; 7/9)\n",
      "Q* = (3/14; 11/14)\n"
     ]
    }
   ],
   "source": [
    "print(\"Оптимальные стратегии по Нэшу\")\n",
    "print(\"P* = ({}; {})\".format(Intersection(q1, q0).sup, abs(Intersection(q1, q0).sup - 1)))\n",
    "print(\"Q* = ({}; {})\".format(Intersection(p1, p0).sup, abs(Intersection(p1, p0).sup - 1)))"
   ]
  },
  {
   "cell_type": "code",
   "execution_count": 20,
   "metadata": {},
   "outputs": [],
   "source": [
    "p = Intersection(q1, q0).sup\n",
    "q = Intersection(p1, p0).sup"
   ]
  },
  {
   "cell_type": "code",
   "execution_count": 45,
   "metadata": {},
   "outputs": [
    {
     "data": {
      "text/latex": [
       "$\\displaystyle \\frac{2}{9}$"
      ],
      "text/plain": [
       "2/9"
      ]
     },
     "execution_count": 45,
     "metadata": {},
     "output_type": "execute_result"
    }
   ],
   "source": [
    "p"
   ]
  },
  {
   "cell_type": "code",
   "execution_count": null,
   "metadata": {},
   "outputs": [],
   "source": []
  },
  {
   "cell_type": "code",
   "execution_count": 61,
   "metadata": {},
   "outputs": [],
   "source": [
    "Ha = (a22 / ((1-p) * (1-q))) + (a21 / (q * (1-p))) + (a12 / (p * (1-q))) + (a11 / (p*q))\n",
    "Hb = (b22 / ((1-p) * (1-q))) + (b21 / (q * (1-p))) + (b12 / (p * (1-q))) + (b11 / (p*q))"
   ]
  },
  {
   "cell_type": "code",
   "execution_count": 62,
   "metadata": {},
   "outputs": [
    {
     "name": "stdout",
     "output_type": "stream",
     "text": [
      "Цена игры для первого игрока:\n",
      "Ha(p;q) = -2136/11\n",
      "Цена игры для второго игрока:\n",
      "Hb(p;q) = 981/11\n"
     ]
    }
   ],
   "source": [
    "print(\"Цена игры для первого игрока:\")\n",
    "print(\"Ha(p;q) = {}\".format(Ha))\n",
    "print(\"Цена игры для второго игрока:\")\n",
    "print(\"Hb(p;q) = {}\".format(Hb))"
   ]
  },
  {
   "cell_type": "code",
   "execution_count": 63,
   "metadata": {},
   "outputs": [
    {
     "name": "stdout",
     "output_type": "stream",
     "text": [
      "Выигрыш игроков в равновесной ситуации: \n",
      "f(P*,Q*) = (-2136/11; 981/11)\n"
     ]
    }
   ],
   "source": [
    "print(\"Выигрыш игроков в равновесной ситуации: \")\n",
    "print(\"f(P*,Q*) = ({}; {})\".format(Ha, Hb))"
   ]
  },
  {
   "cell_type": "code",
   "execution_count": null,
   "metadata": {},
   "outputs": [],
   "source": []
  }
 ],
 "metadata": {
  "kernelspec": {
   "display_name": "Python 3",
   "language": "python",
   "name": "python3"
  },
  "language_info": {
   "codemirror_mode": {
    "name": "ipython",
    "version": 3
   },
   "file_extension": ".py",
   "mimetype": "text/x-python",
   "name": "python",
   "nbconvert_exporter": "python",
   "pygments_lexer": "ipython3",
   "version": "3.7.5"
  }
 },
 "nbformat": 4,
 "nbformat_minor": 4
}
