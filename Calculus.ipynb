{
 "cells": [
  {
   "cell_type": "code",
   "execution_count": 205,
   "metadata": {},
   "outputs": [],
   "source": [
    "import math\n",
    "import sys\n",
    "\n",
    "import numpy as np\n",
    "\n",
    "from sympy.abc import x\n",
    "from sympy import Poly, Intersection\n",
    "from sympy.solvers.inequalities import solve_poly_inequality"
   ]
  },
  {
   "cell_type": "code",
   "execution_count": null,
   "metadata": {},
   "outputs": [],
   "source": []
  },
  {
   "cell_type": "code",
   "execution_count": 233,
   "metadata": {},
   "outputs": [],
   "source": [
    "b11 = 5\n",
    "b21 = -1\n",
    "b12 = -2\n",
    "b22 = 1\n",
    "\n",
    "a11 = -10\n",
    "a21 = 1\n",
    "a12 = 2\n",
    "a22 = -1"
   ]
  },
  {
   "cell_type": "code",
   "execution_count": 234,
   "metadata": {},
   "outputs": [],
   "source": [
    "C = a11 - a12 - a21 + a22\n",
    "a = a22- a12\n",
    "D = b11 - b12 - b21 + b22\n",
    "b = b22 - b21"
   ]
  },
  {
   "cell_type": "code",
   "execution_count": 235,
   "metadata": {},
   "outputs": [
    {
     "name": "stdout",
     "output_type": "stream",
     "text": [
      "C: -14\n",
      "α: -3 \n",
      "D: 9\n",
      "ß: 2\n",
      "\n"
     ]
    }
   ],
   "source": [
    "print(\"C: {}\\nα: {} \\nD: {}\\nß: {}\\n\".format(\n",
    "    C, a, D, b\n",
    "))"
   ]
  },
  {
   "cell_type": "code",
   "execution_count": null,
   "metadata": {},
   "outputs": [],
   "source": []
  },
  {
   "cell_type": "code",
   "execution_count": 236,
   "metadata": {},
   "outputs": [],
   "source": [
    "\"\"\"\n",
    "Определяемая равновесную ситуацию, необходимо и достаточно одновременное выполнение следующих неравенств\n",
    "(p–1)(Cq-α) ≥ 0, p(Cq-α) ≥ 0; 0 ≤ p ≤ 1\n",
    "(q-1)(Dp-β) ≥ 0, q(Dp-β) ≥ 0; 0 ≤ q ≤ 1\n",
    "\"\"\"\n",
    "sys.stdout.flush()"
   ]
  },
  {
   "cell_type": "code",
   "execution_count": null,
   "metadata": {},
   "outputs": [],
   "source": []
  },
  {
   "cell_type": "code",
   "execution_count": 237,
   "metadata": {},
   "outputs": [],
   "source": [
    "p1 = solve_poly_inequality(Poly(C * x - a), '>=')[0]\n",
    "p0 = solve_poly_inequality(Poly(-(C * x - a)), '>=')[0]\n",
    "\n",
    "q1 = solve_poly_inequality(Poly(D * x - b), '>=')[0]\n",
    "q0 = solve_poly_inequality(Poly(-(D * x - b)), '>=')[0]"
   ]
  },
  {
   "cell_type": "code",
   "execution_count": null,
   "metadata": {},
   "outputs": [],
   "source": []
  },
  {
   "cell_type": "code",
   "execution_count": 238,
   "metadata": {},
   "outputs": [
    {
     "name": "stdout",
     "output_type": "stream",
     "text": [
      "p1: \n"
     ]
    },
    {
     "data": {
      "text/latex": [
       "$\\displaystyle \\left(-\\infty, \\frac{3}{14}\\right]$"
      ],
      "text/plain": [
       "Interval(-oo, 3/14)"
      ]
     },
     "execution_count": 238,
     "metadata": {},
     "output_type": "execute_result"
    }
   ],
   "source": [
    "print(\"p1: \")\n",
    "p1"
   ]
  },
  {
   "cell_type": "code",
   "execution_count": 239,
   "metadata": {},
   "outputs": [
    {
     "name": "stdout",
     "output_type": "stream",
     "text": [
      "p0: \n"
     ]
    },
    {
     "data": {
      "text/latex": [
       "$\\displaystyle \\left[\\frac{3}{14}, \\infty\\right)$"
      ],
      "text/plain": [
       "Interval(3/14, oo)"
      ]
     },
     "execution_count": 239,
     "metadata": {},
     "output_type": "execute_result"
    }
   ],
   "source": [
    "print(\"p0: \")\n",
    "p0"
   ]
  },
  {
   "cell_type": "code",
   "execution_count": null,
   "metadata": {},
   "outputs": [],
   "source": []
  },
  {
   "cell_type": "code",
   "execution_count": 240,
   "metadata": {},
   "outputs": [
    {
     "name": "stdout",
     "output_type": "stream",
     "text": [
      "Оптимальные стратегии по Нэшу\n",
      "P* = (2/9; 7/9)\n",
      "Q* = (3/14; 11/14)\n"
     ]
    }
   ],
   "source": [
    "print(\"Оптимальные стратегии по Нэшу\")\n",
    "print(\"P* = ({}; {})\".format(Intersection(q1, q0).sup, abs(Intersection(q1, q0).sup - 1)))\n",
    "print(\"Q* = ({}; {})\".format(Intersection(p1, p0).sup, abs(Intersection(p1, p0).sup - 1)))"
   ]
  },
  {
   "cell_type": "code",
   "execution_count": null,
   "metadata": {},
   "outputs": [],
   "source": []
  },
  {
   "cell_type": "code",
   "execution_count": 267,
   "metadata": {},
   "outputs": [],
   "source": []
  },
  {
   "cell_type": "code",
   "execution_count": null,
   "metadata": {},
   "outputs": [],
   "source": []
  },
  {
   "cell_type": "code",
   "execution_count": null,
   "metadata": {},
   "outputs": [],
   "source": []
  },
  {
   "cell_type": "code",
   "execution_count": 263,
   "metadata": {},
   "outputs": [],
   "source": []
  },
  {
   "cell_type": "code",
   "execution_count": null,
   "metadata": {},
   "outputs": [],
   "source": []
  }
 ],
 "metadata": {
  "kernelspec": {
   "display_name": "Python 3",
   "language": "python",
   "name": "python3"
  },
  "language_info": {
   "codemirror_mode": {
    "name": "ipython",
    "version": 3
   },
   "file_extension": ".py",
   "mimetype": "text/x-python",
   "name": "python",
   "nbconvert_exporter": "python",
   "pygments_lexer": "ipython3",
   "version": "3.7.5"
  }
 },
 "nbformat": 4,
 "nbformat_minor": 4
}
